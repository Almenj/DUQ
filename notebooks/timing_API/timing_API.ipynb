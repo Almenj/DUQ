{
 "cells": [
  {
   "cell_type": "code",
   "execution_count": 11,
   "id": "d234434d",
   "metadata": {},
   "outputs": [],
   "source": [
    "import requests\n",
    "\n",
    "x = 1\n",
    "y = 1\n",
    "z = 1\n",
    "u = 1\n",
    "v = 1\n",
    "w = 1"
   ]
  },
  {
   "cell_type": "markdown",
   "id": "74adcaa2",
   "metadata": {},
   "source": [
    "# Time the tuned MC Dropout model"
   ]
  },
  {
   "cell_type": "code",
   "execution_count": 29,
   "id": "ae8bf9cf",
   "metadata": {},
   "outputs": [],
   "source": [
    "data = {\"method\":\"MC\",\"numx\":x, \"numy\":y, \"numz\":z, \"dimx\":u, \"dimy\":v, \"dimz\":w}"
   ]
  },
  {
   "cell_type": "code",
   "execution_count": 31,
   "id": "729ba5bc",
   "metadata": {},
   "outputs": [
    {
     "name": "stdout",
     "output_type": "stream",
     "text": [
      "35.8 ms ± 2.84 ms per loop (mean ± std. dev. of 7 runs, 200 loops each)\n"
     ]
    }
   ],
   "source": [
    "%timeit -n 200 requests.post('http://127.0.0.1:5000/predict', json=data)"
   ]
  },
  {
   "cell_type": "markdown",
   "id": "ab07192f",
   "metadata": {},
   "source": [
    "# Time the tuned SGLD model"
   ]
  },
  {
   "cell_type": "code",
   "execution_count": 32,
   "id": "980a383d",
   "metadata": {},
   "outputs": [],
   "source": [
    "data = {\"method\":\"SGLD\",\"numx\":x, \"numy\":y, \"numz\":z, \"dimx\":u, \"dimy\":v, \"dimz\":w}"
   ]
  },
  {
   "cell_type": "code",
   "execution_count": 33,
   "id": "b55529e8",
   "metadata": {},
   "outputs": [
    {
     "name": "stdout",
     "output_type": "stream",
     "text": [
      "35.9 ms ± 3.01 ms per loop (mean ± std. dev. of 7 runs, 200 loops each)\n"
     ]
    }
   ],
   "source": [
    "%timeit -n 200 requests.post('http://127.0.0.1:5000/predict', json=data)"
   ]
  },
  {
   "cell_type": "markdown",
   "id": "85cd1be7",
   "metadata": {},
   "source": [
    "# Time the Reference Model"
   ]
  },
  {
   "cell_type": "code",
   "execution_count": 34,
   "id": "e8c7d40c",
   "metadata": {},
   "outputs": [],
   "source": [
    "data = {\"method\":\"reference\",\"numx\":x, \"numy\":y, \"numz\":z, \"dimx\":u, \"dimy\":v, \"dimz\":w}"
   ]
  },
  {
   "cell_type": "code",
   "execution_count": 35,
   "id": "bdad1469",
   "metadata": {},
   "outputs": [
    {
     "name": "stdout",
     "output_type": "stream",
     "text": [
      "38.6 ms ± 6.43 ms per loop (mean ± std. dev. of 7 runs, 200 loops each)\n"
     ]
    }
   ],
   "source": [
    "%timeit -n 200 requests.post('http://127.0.0.1:5000/predict', json=data)"
   ]
  }
 ],
 "metadata": {
  "kernelspec": {
   "display_name": "Python 3 (ipykernel)",
   "language": "python",
   "name": "python3"
  },
  "language_info": {
   "codemirror_mode": {
    "name": "ipython",
    "version": 3
   },
   "file_extension": ".py",
   "mimetype": "text/x-python",
   "name": "python",
   "nbconvert_exporter": "python",
   "pygments_lexer": "ipython3",
   "version": "3.8.8"
  }
 },
 "nbformat": 4,
 "nbformat_minor": 5
}
